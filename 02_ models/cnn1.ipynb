{
 "cells": [
  {
   "cell_type": "markdown",
   "id": "92287f16-7fb1-4d36-839e-d2b3a028cf05",
   "metadata": {},
   "source": [
    "# Distinguishing Adult and Youth Faces Using Convolutional Neural Networks\n",
    "\n",
    "\n",
    "## Notebook CNN1: First Convolutional Neural Network\n",
    "This section details the creation of a foundational Convolutional Neural Network (CNN) with a single hidden layer. In this initial model, neither regularization techniques nor data balancing methods are applied. Subsequent iterations will introduce parameter adjustments to enhance model performance progressively.\n",
    "\n",
    "### Important Considerations\n",
    "* These models require significant computing power. Each took 10 hours to fit using an M3 chip and 18GB of memory.\n",
    "* Consider making a separate keras environment\n",
    "* Consider working in GoogleColab\n"
   ]
  },
  {
   "cell_type": "code",
   "execution_count": 1,
   "id": "51f938e5-cb37-42f1-a69a-4fc90dfc2952",
   "metadata": {},
   "outputs": [],
   "source": [
    "#imports\n",
    "import numpy as np\n",
    "import matplotlib.pyplot as plt\n",
    "import os\n",
    "\n",
    "from tensorflow.keras.models import Sequential\n",
    "from tensorflow.keras.layers import Dense, Dropout, Flatten, Conv2D, MaxPooling2D\n",
    "from tensorflow.keras.utils import to_categorical\n",
    "import tensorflow as tf\n",
    "\n",
    "import keras"
   ]
  },
  {
   "cell_type": "code",
   "execution_count": 2,
   "id": "1d406d35-3f01-493a-bb28-ac6b17317b5e",
   "metadata": {},
   "outputs": [
    {
     "name": "stdout",
     "output_type": "stream",
     "text": [
      "Found 14633 files belonging to 2 classes.\n",
      "Using 11707 files for training.\n",
      "Found 14633 files belonging to 2 classes.\n",
      "Using 2926 files for validation.\n"
     ]
    }
   ],
   "source": [
    "data_dir = '/Users/marta/Documents/data_dir/'\n",
    "\n",
    "train_ds = tf.keras.utils.image_dataset_from_directory(\n",
    "  data_dir,\n",
    "  validation_split=0.2,\n",
    "  subset=\"training\",\n",
    "  seed=123,\n",
    "  image_size=(256, 256),\n",
    "  batch_size = 32)\n",
    "\n",
    "val_ds = tf.keras.utils.image_dataset_from_directory(\n",
    "  data_dir,\n",
    "  validation_split=0.2,\n",
    "  subset=\"validation\",\n",
    "  seed=123,\n",
    "  image_size=(256, 256),\n",
    "  batch_size = 32)"
   ]
  },
  {
   "cell_type": "code",
   "execution_count": 6,
   "id": "5aea8c6e-4106-457e-b32e-09bbf758d2f3",
   "metadata": {},
   "outputs": [
    {
     "name": "stdout",
     "output_type": "stream",
     "text": [
      "['PLP', 'POR']\n"
     ]
    }
   ],
   "source": [
    "class_names = train_ds.class_names\n",
    "print(class_names)"
   ]
  },
  {
   "cell_type": "code",
   "execution_count": null,
   "id": "274e1c77-f8c8-4eb4-8cc0-0c81bde658f0",
   "metadata": {},
   "outputs": [],
   "source": [
    "# CNN 1: input layer + 1 hidden layer\n",
    "cnn_new = Sequential()\n",
    "\n",
    "# Convoluting and MaxPooling\n",
    "# input (which includes one hidden layer because Sequential does that)\n",
    "cnn_new.add(Conv2D(512,\n",
    "                2,\n",
    "                activation = 'relu',\n",
    "                input_shape = (256, 256, 3)))\n",
    "cnn_new.add(MaxPooling2D(2))\n",
    "\n",
    "# add our first explicit hidden layer\n",
    "cnn_new.add(Conv2D(64, 2, activation = 'relu'))\n",
    "cnn_new.add(MaxPooling2D(2))\n",
    "\n",
    "# Output layer, with softmax activation because it's classification\n",
    "# with as many neurons as there are classes\n",
    "cnn_new.add(Flatten())\n",
    "cnn_new.add(Dense(1, activation = 'sigmoid'))\n",
    "\n",
    "# compiling the model\n",
    "cnn_new.compile(\n",
    "    loss = 'binary_crossentropy',\n",
    "    optimizer = 'adam',\n",
    "    metrics = ['acc']\n",
    ")\n",
    "\n",
    "# Fit the model\n",
    "history = cnn_new.fit(train_ds,\n",
    "                   epochs = 10,\n",
    "                   validation_data = val_ds)"
   ]
  },
  {
   "cell_type": "code",
   "execution_count": null,
   "id": "3d4456e2-6ff5-43c7-a8c8-e08281df02e7",
   "metadata": {},
   "outputs": [],
   "source": [
    "# Check out the plot of loss vs epoch.\n",
    "plt.figure(figsize = (12, 6));\n",
    "\n",
    "plt.subplot(1,2,1)\n",
    "plt.plot(history.history['loss'], c = 'navy', label = 'Training Loss');\n",
    "plt.plot(history.history['val_loss'], c = 'orange', label = 'Testing Loss');\n",
    "\n",
    "plt.title('''CNN 1 :\n",
    "Binary Crossentropy (loss function),\n",
    "as a Function of Epochs''')\n",
    "plt.xlabel('Epochs');\n",
    "plt.ylabel('Loss Function')\n",
    "plt.legend();\n",
    "\n",
    "\n",
    "plt.subplot(1, 2, 2)\n",
    "plt.plot(history.history['acc'], c = 'navy', label = 'Training Accuracy');\n",
    "plt.plot(history.history['val_acc'], c = 'orange', label = 'Testing Accuracy');\n",
    "plt.title('''CNN 1: \n",
    "Accuracy Score \n",
    "as a Function of Epochs)''')\n",
    "plt.xlabel('Epochs');\n",
    "plt.ylabel('Accuracy Score')\n",
    "plt.legend();"
   ]
  },
  {
   "cell_type": "code",
   "execution_count": null,
   "id": "13d99733-f7f7-48a1-aa8f-b4320190c9e6",
   "metadata": {},
   "outputs": [],
   "source": []
  }
 ],
 "metadata": {
  "kernelspec": {
   "display_name": "Python 3 (ipykernel)",
   "language": "python",
   "name": "python3"
  },
  "language_info": {
   "codemirror_mode": {
    "name": "ipython",
    "version": 3
   },
   "file_extension": ".py",
   "mimetype": "text/x-python",
   "name": "python",
   "nbconvert_exporter": "python",
   "pygments_lexer": "ipython3",
   "version": "3.11.5"
  }
 },
 "nbformat": 4,
 "nbformat_minor": 5
}
