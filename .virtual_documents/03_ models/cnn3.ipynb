import numpy as np
import matplotlib.pyplot as plt
import os

from sklearn.utils import compute_class_weight

from tensorflow.keras.models import Sequential
from tensorflow.keras.layers import Dense, Dropout, Flatten, Conv2D, MaxPooling2D
from tensorflow.keras.utils import to_categorical
import tensorflow as tf
import keras
from keras import regularizers
from keras.preprocessing.image import ImageDataGenerator
# from keras import regularizers
# from keras.utils import load_img
# from PIL import Image


data_dir = '/Users/marta/Documents/data_dir/'

train_ds = tf.keras.utils.image_dataset_from_directory(
  data_dir,
  validation_split=0.2,
  subset="training",
  seed=123,
  image_size=(256, 256),
  batch_size = 32)

val_ds = tf.keras.utils.image_dataset_from_directory(
  data_dir,
  validation_split=0.2,
  subset="validation",
  seed=123,
  image_size=(256, 256),
  batch_size = 32)


# help from argo

classes = np.array(['PLP', 'POR'])
y = [classes[0]] * 5422 + [classes[1]] * 9211
class_weights = compute_class_weight('balanced', classes=classes, y=y)


class_weights_dict = class_weights_dict = {i: weight for i, weight in enumerate(class_weights)}
class_weights_dict


from tensorflow.keras.layers import Dropout

# Add dropout layers
cnn3 = Sequential()

cnn3.add(Conv2D(512, 3, activation='relu', input_shape=(256, 256, 3)))
cnn3.add(MaxPooling2D(2, padding='same'))
cnn3.add(Dropout(0.5))

cnn3.add(Conv2D(256, 3, activation='relu', kernel_regularizer=regularizers.l2(0.01)))
cnn3.add(MaxPooling2D(2, padding='same'))
cnn3.add(Dropout(0.5))

cnn3.add(Conv2D(256, 3, activation='relu', kernel_regularizer=regularizers.l2(0.01)))
cnn3.add(MaxPooling2D(2, padding='same'))
cnn3.add(Dropout(0.5))

cnn3.add(Flatten())
cnn3.add(Dense(1, activation='sigmoid'))

cnn3.compile(loss='binary_crossentropy', optimizer='adam', metrics=['acc'])

history3 = cnn3.fit(train_ds, epochs=10, validation_data=val_ds, class_weight=class_weights_dict)




