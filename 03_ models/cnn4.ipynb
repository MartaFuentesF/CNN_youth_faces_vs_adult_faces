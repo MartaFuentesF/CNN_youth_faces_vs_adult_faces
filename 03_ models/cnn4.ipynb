{
 "cells": [
  {
   "cell_type": "code",
   "execution_count": 5,
   "id": "03adf5fc-5d2f-42c5-b563-c332c30b3aeb",
   "metadata": {},
   "outputs": [],
   "source": [
    "import pandas as pd\n",
    "import numpy as np\n",
    "import matplotlib.pyplot as plt\n",
    "import os\n",
    "\n",
    "from sklearn.utils import compute_class_weight\n",
    "\n",
    "import tensorflow as tf\n",
    "from tensorflow.keras.models import Sequential\n",
    "from tensorflow.keras.layers import Dense, Dropout, Flatten, Conv2D, MaxPooling2D\n",
    "from tensorflow.keras.utils import to_categorical\n",
    "from tensorflow.keras.models import load_model\n",
    "\n",
    "\n",
    "import keras\n",
    "from keras import regularizers\n",
    "from keras.preprocessing.image import ImageDataGenerator\n",
    "from keras.models import load_model\n",
    "from tensorflow.keras.applications import VGG19\n"
   ]
  },
  {
   "cell_type": "code",
   "execution_count": 2,
   "id": "90ed576f-5e1e-4f4c-b2e0-0813e4b236f0",
   "metadata": {},
   "outputs": [
    {
     "name": "stdout",
     "output_type": "stream",
     "text": [
      "Found 14633 files belonging to 2 classes.\n",
      "Using 11707 files for training.\n",
      "Found 14633 files belonging to 2 classes.\n",
      "Using 2926 files for validation.\n"
     ]
    }
   ],
   "source": [
    "data_dir = '/Users/marta/Documents/data_dir/'\n",
    "\n",
    "train_ds = tf.keras.utils.image_dataset_from_directory(\n",
    "  data_dir,\n",
    "  validation_split=0.2,\n",
    "  subset=\"training\",\n",
    "  seed=123,\n",
    "  image_size=(256, 256),\n",
    "  batch_size = 32)\n",
    "\n",
    "val_ds = tf.keras.utils.image_dataset_from_directory(\n",
    "  data_dir,\n",
    "  validation_split=0.2,\n",
    "  subset=\"validation\",\n",
    "  seed=123,\n",
    "  image_size=(256, 256),\n",
    "  batch_size = 32)"
   ]
  },
  {
   "cell_type": "code",
   "execution_count": 3,
   "id": "8176629d-1359-47bc-b673-1784c814d941",
   "metadata": {},
   "outputs": [
    {
     "data": {
      "text/plain": [
       "{0: 1.349409811877536, 1: 0.794322006296819}"
      ]
     },
     "execution_count": 3,
     "metadata": {},
     "output_type": "execute_result"
    }
   ],
   "source": [
    "# Helped by Argishti Ovsepyan \n",
    "classes = np.array(['PLP', 'POR'])\n",
    "y = [classes[0]] * 5422 + [classes[1]] * 9211\n",
    "class_weights = compute_class_weight('balanced', classes=classes, y=y)\n",
    "\n",
    "class_weights_dict = class_weights_dict = {i: weight for i, weight in enumerate(class_weights)}\n",
    "class_weights_dict"
   ]
  },
  {
   "cell_type": "code",
   "execution_count": 6,
   "id": "bcfa4315-5481-4187-86f9-894b49098fad",
   "metadata": {},
   "outputs": [
    {
     "name": "stdout",
     "output_type": "stream",
     "text": [
      "Epoch 1/10\n"
     ]
    },
    {
     "name": "stderr",
     "output_type": "stream",
     "text": [
      "2024-06-11 21:21:02.430662: I tensorflow/core/common_runtime/executor.cc:1197] [/device:CPU:0] (DEBUG INFO) Executor start aborting (this does not indicate an error and you can ignore this message): INVALID_ARGUMENT: You must feed a value for placeholder tensor 'Placeholder/_0' with dtype string and shape [11707]\n",
      "\t [[{{node Placeholder/_0}}]]\n",
      "2024-06-11 21:21:02.430820: I tensorflow/core/common_runtime/executor.cc:1197] [/device:CPU:0] (DEBUG INFO) Executor start aborting (this does not indicate an error and you can ignore this message): INVALID_ARGUMENT: You must feed a value for placeholder tensor 'Placeholder/_17' with dtype double and shape [2]\n",
      "\t [[{{node Placeholder/_17}}]]\n",
      "2024-06-11 21:21:02.438845: W tensorflow/tsl/platform/profile_utils/cpu_utils.cc:128] Failed to get CPU frequency: 0 Hz\n"
     ]
    },
    {
     "name": "stdout",
     "output_type": "stream",
     "text": [
      "366/366 [==============================] - ETA: 0s - loss: 18.3909 - acc: 0.5266"
     ]
    },
    {
     "name": "stderr",
     "output_type": "stream",
     "text": [
      "2024-06-11 22:18:26.550108: I tensorflow/core/common_runtime/executor.cc:1197] [/device:CPU:0] (DEBUG INFO) Executor start aborting (this does not indicate an error and you can ignore this message): INVALID_ARGUMENT: You must feed a value for placeholder tensor 'Placeholder/_0' with dtype string and shape [2926]\n",
      "\t [[{{node Placeholder/_0}}]]\n",
      "2024-06-11 22:18:26.550235: I tensorflow/core/common_runtime/executor.cc:1197] [/device:CPU:0] (DEBUG INFO) Executor start aborting (this does not indicate an error and you can ignore this message): INVALID_ARGUMENT: You must feed a value for placeholder tensor 'Placeholder/_0' with dtype string and shape [2926]\n",
      "\t [[{{node Placeholder/_0}}]]\n"
     ]
    },
    {
     "name": "stdout",
     "output_type": "stream",
     "text": [
      "366/366 [==============================] - 3655s 10s/step - loss: 18.3909 - acc: 0.5266 - val_loss: 9.5408 - val_acc: 0.6237\n",
      "Epoch 2/10\n",
      "366/366 [==============================] - 3652s 10s/step - loss: 6.4428 - acc: 0.5563 - val_loss: 4.2146 - val_acc: 0.6237\n",
      "Epoch 3/10\n",
      "366/366 [==============================] - 3738s 10s/step - loss: 3.0466 - acc: 0.5832 - val_loss: 2.1743 - val_acc: 0.6237\n",
      "Epoch 4/10\n",
      "366/366 [==============================] - 3771s 10s/step - loss: 1.7066 - acc: 0.5466 - val_loss: 1.3493 - val_acc: 0.4751\n",
      "Epoch 5/10\n",
      "366/366 [==============================] - 3786s 10s/step - loss: 1.1444 - acc: 0.5688 - val_loss: 0.9667 - val_acc: 0.5390\n",
      "Epoch 6/10\n",
      "366/366 [==============================] - 3752s 10s/step - loss: 0.8734 - acc: 0.5882 - val_loss: 0.7726 - val_acc: 0.6141\n",
      "Epoch 7/10\n",
      "366/366 [==============================] - 3778s 10s/step - loss: 0.7428 - acc: 0.5910 - val_loss: 0.7077 - val_acc: 0.5964\n",
      "Epoch 8/10\n",
      "366/366 [==============================] - 3849s 11s/step - loss: 0.6982 - acc: 0.5943 - val_loss: 0.6783 - val_acc: 0.6001\n",
      "Epoch 9/10\n",
      "366/366 [==============================] - 3873s 11s/step - loss: 0.6786 - acc: 0.5939 - val_loss: 0.6699 - val_acc: 0.5984\n",
      "Epoch 10/10\n",
      "366/366 [==============================] - 3897s 11s/step - loss: 0.6682 - acc: 0.5934 - val_loss: 0.6603 - val_acc: 0.6025\n"
     ]
    }
   ],
   "source": [
    "from tensorflow.keras.layers import Dropout\n",
    "\n",
    "# Add dropout layers\n",
    "cnn4 = Sequential()\n",
    "\n",
    "cnn4.add(Conv2D(512, 3, activation='relu', input_shape=(256, 256, 3)))\n",
    "cnn4.add(MaxPooling2D(2, padding='same'))\n",
    "cnn4.add(Dropout(0.5))\n",
    "\n",
    "cnn4.add(Conv2D(256, 3, activation='relu', kernel_regularizer=regularizers.l2(0.03)))\n",
    "cnn4.add(MaxPooling2D(2, padding='same'))\n",
    "cnn4.add(Dropout(0.5))\n",
    "\n",
    "cnn4.add(Conv2D(256, 3, activation='relu', kernel_regularizer=regularizers.l2(0.03)))\n",
    "cnn4.add(MaxPooling2D(2, padding='same'))\n",
    "cnn4.add(Dropout(0.5))\n",
    "\n",
    "cnn4.add(Conv2D(256, 3, activation='relu', kernel_regularizer=regularizers.l2(0.03)))\n",
    "cnn4.add(MaxPooling2D(2, padding='same'))\n",
    "cnn4.add(Dropout(0.5))\n",
    "\n",
    "cnn4.add(Flatten())\n",
    "cnn4.add(Dense(1, activation='sigmoid'))\n",
    "\n",
    "cnn4.compile(loss='binary_crossentropy', optimizer='adam', metrics=['acc'])\n",
    "\n",
    "history4 = cnn4.fit(train_ds, epochs=10, validation_data=val_ds, class_weight=class_weights_dict)\n"
   ]
  },
  {
   "cell_type": "code",
   "execution_count": 4,
   "id": "4fd8c932-392f-48a6-bf1e-891be8b83557",
   "metadata": {},
   "outputs": [
    {
     "ename": "NameError",
     "evalue": "name 'cnn4' is not defined",
     "output_type": "error",
     "traceback": [
      "\u001b[0;31m---------------------------------------------------------------------------\u001b[0m",
      "\u001b[0;31mNameError\u001b[0m                                 Traceback (most recent call last)",
      "Cell \u001b[0;32mIn[4], line 1\u001b[0m\n\u001b[0;32m----> 1\u001b[0m cnn4\u001b[38;5;241m.\u001b[39msave(\u001b[38;5;124m'\u001b[39m\u001b[38;5;124m./saved_models/cnn4.h5\u001b[39m\u001b[38;5;124m'\u001b[39m)\n\u001b[1;32m      2\u001b[0m pd\u001b[38;5;241m.\u001b[39mDataFrame(history4\u001b[38;5;241m.\u001b[39mhistory)\u001b[38;5;241m.\u001b[39mto_csv(\u001b[38;5;124m'\u001b[39m\u001b[38;5;124m./saved_models//history4.csv\u001b[39m\u001b[38;5;124m'\u001b[39m, index\u001b[38;5;241m=\u001b[39m\u001b[38;5;28;01mFalse\u001b[39;00m)\n",
      "\u001b[0;31mNameError\u001b[0m: name 'cnn4' is not defined"
     ]
    }
   ],
   "source": [
    "cnn4.save('./saved_models/cnn4.h5')\n",
    "pd.DataFrame(history4.history).to_csv('./saved_models//history4.csv', index=False)"
   ]
  },
  {
   "cell_type": "code",
   "execution_count": null,
   "id": "e59ed74b-81ec-4693-8803-005e09fa626d",
   "metadata": {},
   "outputs": [],
   "source": [
    "#### Check out the plot of loss vs epoch.\n",
    "plt.figure(figsize = (12, 6));\n",
    "\n",
    "plt.subplot(1,2,1)\n",
    "plt.plot(history4.history['loss'], c = 'navy', label = 'Training Loss');\n",
    "plt.plot(history4.history['val_loss'], c = 'orange', label = 'Testing Loss');\n",
    "\n",
    "plt.title('''CNN 4 :\n",
    "Binary Crossentropy (loss function),\n",
    "as a Function of Epochs''')\n",
    "plt.xlabel('Epochs');\n",
    "plt.ylabel('Loss Function')\n",
    "plt.legend();\n",
    "\n",
    "\n",
    "plt.subplot(1, 2, 2)\n",
    "plt.plot(history4.history['acc'], c = 'navy', label = 'Training Accuracy');\n",
    "plt.plot(history4.history['val_acc'], c = 'orange', label = 'Testing Accuracy');\n",
    "plt.title('''CNN 4: \n",
    "Accuracy Score \n",
    "as a Function of Epochs)''')\n",
    "plt.xlabel('Epochs');\n",
    "plt.ylabel('Accuracy Score')\n",
    "plt.legend();"
   ]
  },
  {
   "cell_type": "code",
   "execution_count": 10,
   "id": "a267e731-fe1e-493c-a7e9-d68e26332108",
   "metadata": {},
   "outputs": [],
   "source": [
    "# loading the model for further statistical analysis\n",
    "cnn4 = load_model('./saved_models/cnn4_saved_model/cnn4.h5')\n",
    "\n",
    "# loading the training history\n",
    "history4 = pd.read_csv('./saved_models/cnn4_saved_model/history4.csv')"
   ]
  },
  {
   "cell_type": "code",
   "execution_count": 11,
   "id": "3a4820fd-0485-48ee-877d-9f79ed170a5c",
   "metadata": {},
   "outputs": [
    {
     "name": "stderr",
     "output_type": "stream",
     "text": [
      "2024-06-12 10:29:46.025847: I tensorflow/core/common_runtime/executor.cc:1197] [/device:CPU:0] (DEBUG INFO) Executor start aborting (this does not indicate an error and you can ignore this message): INVALID_ARGUMENT: You must feed a value for placeholder tensor 'Placeholder/_4' with dtype int32 and shape [2926]\n",
      "\t [[{{node Placeholder/_4}}]]\n",
      "2024-06-12 10:29:46.026252: I tensorflow/core/common_runtime/executor.cc:1197] [/device:CPU:0] (DEBUG INFO) Executor start aborting (this does not indicate an error and you can ignore this message): INVALID_ARGUMENT: You must feed a value for placeholder tensor 'Placeholder/_0' with dtype string and shape [2926]\n",
      "\t [[{{node Placeholder/_0}}]]\n",
      "2024-06-12 10:29:46.202257: W tensorflow/tsl/platform/profile_utils/cpu_utils.cc:128] Failed to get CPU frequency: 0 Hz\n"
     ]
    }
   ],
   "source": [
    "#citation: I followed the following tutorial https://machinelearningmastery.com/how-to-calculate-precision-recall-f1-and-more-for-deep-learning-models/\n",
    "# F1 score & AUC/ROC\n",
    "val_probs = cnn4.predict(val_ds, verbose = 0)"
   ]
  },
  {
   "cell_type": "code",
   "execution_count": 12,
   "id": "7ee4acb1-fb06-47e6-af3c-f32a4ea9672f",
   "metadata": {},
   "outputs": [
    {
     "ename": "AttributeError",
     "evalue": "'Sequential' object has no attribute 'predict_classes'",
     "output_type": "error",
     "traceback": [
      "\u001b[0;31m---------------------------------------------------------------------------\u001b[0m",
      "\u001b[0;31mAttributeError\u001b[0m                            Traceback (most recent call last)",
      "Cell \u001b[0;32mIn[12], line 1\u001b[0m\n\u001b[0;32m----> 1\u001b[0m val_calsses \u001b[38;5;241m=\u001b[39m cnn4\u001b[38;5;241m.\u001b[39mpredict_classes(val_ds, verbose \u001b[38;5;241m=\u001b[39m \u001b[38;5;241m0\u001b[39m)\n",
      "\u001b[0;31mAttributeError\u001b[0m: 'Sequential' object has no attribute 'predict_classes'"
     ]
    }
   ],
   "source": [
    "val_calsses = cnn4.predict_classes(val_ds, verbose = 0)"
   ]
  },
  {
   "cell_type": "code",
   "execution_count": null,
   "id": "26e15eed-ef52-4408-b149-b4b3d5c68b0b",
   "metadata": {},
   "outputs": [],
   "source": [
    "#scikit-learn metrics API needs a 1D array for actual and predicted values.\n",
    "# reducing to 1D array\n",
    "val_probs = val_probs[:, 0]\n",
    "val_classes = val_classes[:, 0]"
   ]
  },
  {
   "cell_type": "code",
   "execution_count": null,
   "id": "0c684156-2234-420b-9da9-7bf75abaa150",
   "metadata": {},
   "outputs": [],
   "source": [
    "# accuracy\n",
    "accuracy = accuracy_score(val_ds, val_classes)\n",
    "#precision\n"
   ]
  }
 ],
 "metadata": {
  "kernelspec": {
   "display_name": "Python 3 (ipykernel)",
   "language": "python",
   "name": "python3"
  },
  "language_info": {
   "codemirror_mode": {
    "name": "ipython",
    "version": 3
   },
   "file_extension": ".py",
   "mimetype": "text/x-python",
   "name": "python",
   "nbconvert_exporter": "python",
   "pygments_lexer": "ipython3",
   "version": "3.11.5"
  }
 },
 "nbformat": 4,
 "nbformat_minor": 5
}
