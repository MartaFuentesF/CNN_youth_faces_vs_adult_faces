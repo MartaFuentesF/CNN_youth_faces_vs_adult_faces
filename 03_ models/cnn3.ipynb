{
 "cells": [
  {
   "cell_type": "code",
   "execution_count": 1,
   "id": "03adf5fc-5d2f-42c5-b563-c332c30b3aeb",
   "metadata": {},
   "outputs": [],
   "source": [
    "import numpy as np\n",
    "import matplotlib.pyplot as plt\n",
    "import os\n",
    "\n",
    "from sklearn.utils import compute_class_weight\n",
    "\n",
    "import tensorflow as tf\n",
    "from tensorflow.keras.models import Sequential\n",
    "from tensorflow.keras.layers import Dense, Dropout, Flatten, Conv2D, MaxPooling2D\n",
    "from tensorflow.keras.utils import to_categorical\n",
    "\n",
    "\n",
    "import keras\n",
    "from keras import regularizers\n",
    "from keras.preprocessing.image import ImageDataGenerator\n",
    "from keras.models import load_model\n",
    "from tensorflow.keras.applications import VGG19\n"
   ]
  },
  {
   "cell_type": "code",
   "execution_count": 2,
   "id": "90ed576f-5e1e-4f4c-b2e0-0813e4b236f0",
   "metadata": {},
   "outputs": [
    {
     "name": "stdout",
     "output_type": "stream",
     "text": [
      "Found 14633 files belonging to 2 classes.\n",
      "Using 11707 files for training.\n",
      "Found 14633 files belonging to 2 classes.\n",
      "Using 2926 files for validation.\n"
     ]
    }
   ],
   "source": [
    "data_dir = '/Users/marta/Documents/data_dir/'\n",
    "\n",
    "train_ds = tf.keras.utils.image_dataset_from_directory(\n",
    "  data_dir,\n",
    "  validation_split=0.2,\n",
    "  subset=\"training\",\n",
    "  seed=123,\n",
    "  image_size=(256, 256),\n",
    "  batch_size = 32)\n",
    "\n",
    "val_ds = tf.keras.utils.image_dataset_from_directory(\n",
    "  data_dir,\n",
    "  validation_split=0.2,\n",
    "  subset=\"validation\",\n",
    "  seed=123,\n",
    "  image_size=(256, 256),\n",
    "  batch_size = 32)"
   ]
  },
  {
   "cell_type": "code",
   "execution_count": 3,
   "id": "a48a344a-f55e-4e50-937c-b14250360562",
   "metadata": {},
   "outputs": [],
   "source": [
    "# help from argo\n",
    "\n",
    "classes = np.array(['PLP', 'POR'])\n",
    "y = [classes[0]] * 5422 + [classes[1]] * 9211\n",
    "class_weights = compute_class_weight('balanced', classes=classes, y=y)"
   ]
  },
  {
   "cell_type": "code",
   "execution_count": 4,
   "id": "de3b8922-0b3a-4fa0-83a9-1fa2210e1ed8",
   "metadata": {},
   "outputs": [
    {
     "data": {
      "text/plain": [
       "{0: 1.349409811877536, 1: 0.794322006296819}"
      ]
     },
     "execution_count": 4,
     "metadata": {},
     "output_type": "execute_result"
    }
   ],
   "source": [
    "class_weights_dict = class_weights_dict = {i: weight for i, weight in enumerate(class_weights)}\n",
    "class_weights_dict"
   ]
  },
  {
   "cell_type": "code",
   "execution_count": null,
   "id": "bcfa4315-5481-4187-86f9-894b49098fad",
   "metadata": {},
   "outputs": [
    {
     "name": "stdout",
     "output_type": "stream",
     "text": [
      "Epoch 1/10\n"
     ]
    },
    {
     "name": "stderr",
     "output_type": "stream",
     "text": [
      "2024-06-11 09:07:35.443404: I tensorflow/core/common_runtime/executor.cc:1197] [/device:CPU:0] (DEBUG INFO) Executor start aborting (this does not indicate an error and you can ignore this message): INVALID_ARGUMENT: You must feed a value for placeholder tensor 'Placeholder/_17' with dtype double and shape [2]\n",
      "\t [[{{node Placeholder/_17}}]]\n",
      "2024-06-11 09:07:35.443659: I tensorflow/core/common_runtime/executor.cc:1197] [/device:CPU:0] (DEBUG INFO) Executor start aborting (this does not indicate an error and you can ignore this message): INVALID_ARGUMENT: You must feed a value for placeholder tensor 'Placeholder/_0' with dtype string and shape [11707]\n",
      "\t [[{{node Placeholder/_0}}]]\n",
      "2024-06-11 09:07:35.477107: W tensorflow/tsl/platform/profile_utils/cpu_utils.cc:128] Failed to get CPU frequency: 0 Hz\n"
     ]
    },
    {
     "name": "stdout",
     "output_type": "stream",
     "text": [
      "366/366 [==============================] - ETA: 0s - loss: 13.0957 - acc: 0.5374 "
     ]
    },
    {
     "name": "stderr",
     "output_type": "stream",
     "text": [
      "2024-06-11 10:09:01.585013: I tensorflow/core/common_runtime/executor.cc:1197] [/device:CPU:0] (DEBUG INFO) Executor start aborting (this does not indicate an error and you can ignore this message): INVALID_ARGUMENT: You must feed a value for placeholder tensor 'Placeholder/_4' with dtype int32 and shape [2926]\n",
      "\t [[{{node Placeholder/_4}}]]\n",
      "2024-06-11 10:09:01.585158: I tensorflow/core/common_runtime/executor.cc:1197] [/device:CPU:0] (DEBUG INFO) Executor start aborting (this does not indicate an error and you can ignore this message): INVALID_ARGUMENT: You must feed a value for placeholder tensor 'Placeholder/_0' with dtype string and shape [2926]\n",
      "\t [[{{node Placeholder/_0}}]]\n"
     ]
    },
    {
     "name": "stdout",
     "output_type": "stream",
     "text": [
      "366/366 [==============================] - 3895s 11s/step - loss: 13.0957 - acc: 0.5374 - val_loss: 4.5146 - val_acc: 0.5335\n",
      "Epoch 2/10\n",
      "366/366 [==============================] - 3831s 10s/step - loss: 3.9610 - acc: 0.5617 - val_loss: 3.5082 - val_acc: 0.5284\n",
      "Epoch 3/10\n",
      "366/366 [==============================] - 4628s 13s/step - loss: 3.1932 - acc: 0.5623 - val_loss: 2.8863 - val_acc: 0.4979\n",
      "Epoch 4/10\n",
      "366/366 [==============================] - 4082s 11s/step - loss: 2.6310 - acc: 0.5821 - val_loss: 2.4167 - val_acc: 0.5526\n",
      "Epoch 5/10\n",
      "294/366 [=======================>......] - ETA: 13:24 - loss: 2.2574 - acc: 0.5818"
     ]
    }
   ],
   "source": [
    "from tensorflow.keras.layers import Dropout\n",
    "\n",
    "# Add dropout layers\n",
    "cnn3 = Sequential()\n",
    "\n",
    "cnn3.add(Conv2D(512, 3, activation='relu', input_shape=(256, 256, 3)))\n",
    "cnn3.add(MaxPooling2D(2, padding='same'))\n",
    "cnn3.add(Dropout(0.5))\n",
    "\n",
    "cnn3.add(Conv2D(256, 3, activation='relu', kernel_regularizer=regularizers.l2(0.01)))\n",
    "cnn3.add(MaxPooling2D(2, padding='same'))\n",
    "cnn3.add(Dropout(0.5))\n",
    "\n",
    "cnn3.add(Conv2D(256, 3, activation='relu', kernel_regularizer=regularizers.l2(0.01)))\n",
    "cnn3.add(MaxPooling2D(2, padding='same'))\n",
    "cnn3.add(Dropout(0.5))\n",
    "\n",
    "cnn3.add(Flatten())\n",
    "cnn3.add(Dense(1, activation='sigmoid'))\n",
    "\n",
    "cnn3.compile(loss='binary_crossentropy', optimizer='adam', metrics=['acc'])\n",
    "\n",
    "history3 = cnn3.fit(train_ds, epochs=10, validation_data=val_ds, class_weight=class_weights_dict)\n"
   ]
  },
  {
   "cell_type": "code",
   "execution_count": null,
   "id": "4fd8c932-392f-48a6-bf1e-891be8b83557",
   "metadata": {},
   "outputs": [],
   "source": []
  }
 ],
 "metadata": {
  "kernelspec": {
   "display_name": "Python 3 (ipykernel)",
   "language": "python",
   "name": "python3"
  },
  "language_info": {
   "codemirror_mode": {
    "name": "ipython",
    "version": 3
   },
   "file_extension": ".py",
   "mimetype": "text/x-python",
   "name": "python",
   "nbconvert_exporter": "python",
   "pygments_lexer": "ipython3",
   "version": "3.11.5"
  }
 },
 "nbformat": 4,
 "nbformat_minor": 5
}
